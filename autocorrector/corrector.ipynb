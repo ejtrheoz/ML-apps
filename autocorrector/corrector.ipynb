{
 "cells": [
  {
   "cell_type": "code",
   "execution_count": 1,
   "id": "f79fe0ba-65d0-4a1e-b8d3-18cbea2658df",
   "metadata": {},
   "outputs": [],
   "source": [
    "%matplotlib inline\n",
    "import re\n",
    "import requests\n",
    "import math\n",
    "from collections import Counter\n",
    "import random\n",
    "import matplotlib.pyplot as plt"
   ]
  },
  {
   "cell_type": "code",
   "execution_count": 2,
   "id": "a5c86456-2072-475b-810e-e61b62d9efd0",
   "metadata": {},
   "outputs": [
    {
     "data": {
      "text/plain": [
       "6488666"
      ]
     },
     "execution_count": 2,
     "metadata": {},
     "output_type": "execute_result"
    }
   ],
   "source": [
    "TEXT = requests.get(\"https://norvig.com/big.txt\").text\n",
    "len(TEXT)"
   ]
  },
  {
   "cell_type": "code",
   "execution_count": 3,
   "id": "1f0de495-c058-418f-b98c-4854631d8f3f",
   "metadata": {},
   "outputs": [],
   "source": [
    "def tokens(text):\n",
    "    return re.findall(r\"[a-z]+\", text.lower())"
   ]
  },
  {
   "cell_type": "code",
   "execution_count": 4,
   "id": "cc85f1a3-c111-4329-b66f-953146554e2e",
   "metadata": {},
   "outputs": [
    {
     "data": {
      "text/plain": [
       "['https', 'norvig', 'com', 'big', 'txt']"
      ]
     },
     "execution_count": 4,
     "metadata": {},
     "output_type": "execute_result"
    }
   ],
   "source": [
    "tokens(\"https://norvig.com/big.txt\")"
   ]
  },
  {
   "cell_type": "code",
   "execution_count": 5,
   "id": "d9d468e8-e557-4fe7-81da-2c4cc58f3caf",
   "metadata": {},
   "outputs": [
    {
     "data": {
      "text/plain": [
       "1105285"
      ]
     },
     "execution_count": 5,
     "metadata": {},
     "output_type": "execute_result"
    }
   ],
   "source": [
    "WORDS = tokens(TEXT)\n",
    "len(WORDS)"
   ]
  },
  {
   "cell_type": "code",
   "execution_count": 6,
   "id": "6a6b134c-90b6-41e7-acea-09bc6511b939",
   "metadata": {},
   "outputs": [],
   "source": [
    "def sample(bag, n=10):\n",
    "    return ' '.join(random.choice(bag) for _ in range(10))"
   ]
  },
  {
   "cell_type": "code",
   "execution_count": 7,
   "id": "fac11d56-4341-4cc4-8665-eb96676a977d",
   "metadata": {},
   "outputs": [
    {
     "name": "stdout",
     "output_type": "stream",
     "text": [
      "[('the', 80030), ('of', 40025), ('and', 38313), ('to', 28766), ('in', 22050), ('a', 21155), ('that', 12512), ('he', 12401), ('was', 11410), ('it', 10681)]\n"
     ]
    }
   ],
   "source": [
    "COUNTS = Counter(WORDS)\n",
    "\n",
    "print(COUNTS.most_common(10))"
   ]
  },
  {
   "cell_type": "code",
   "execution_count": 8,
   "id": "6bc39c9b-983e-426a-87e3-9fb367315ab3",
   "metadata": {},
   "outputs": [
    {
     "name": "stdout",
     "output_type": "stream",
     "text": [
      "the 80030\n",
      "rare 83\n",
      "and 38313\n",
      "neverbeforeseen 0\n",
      "words 460\n"
     ]
    }
   ],
   "source": [
    "for w in tokens(\"the rare and neverbeforeseen words\"):\n",
    "    print(w, COUNTS[w])"
   ]
  },
  {
   "cell_type": "code",
   "execution_count": 9,
   "id": "a4b5fe82-7c47-4aac-a48c-b1cedafa627a",
   "metadata": {},
   "outputs": [
    {
     "data": {
      "text/plain": [
       "[<matplotlib.lines.Line2D at 0x2c368c05160>]"
      ]
     },
     "execution_count": 9,
     "metadata": {},
     "output_type": "execute_result"
    },
    {
     "data": {
      "image/png": "[encoded data removed]",
      "text/plain": [
       "<Figure size 640x480 with 1 Axes>"
      ]
     },
     "metadata": {},
     "output_type": "display_data"
    }
   ],
   "source": [
    "M = COUNTS['the']\n",
    "\n",
    "plt.yscale('log')\n",
    "plt.xscale('log')\n",
    "plt.plot([c for (w, c) in COUNTS.most_common()])\n",
    "plt.plot([M/i for i in range(1,len(COUNTS))])"
   ]
  },
  {
   "cell_type": "code",
   "execution_count": 10,
   "id": "825128cc-e8d2-4bff-832f-857cc5d3af7f",
   "metadata": {},
   "outputs": [],
   "source": [
    "alphabet = \"abcdefghijklmnopqrstuvwxyz\"\n",
    "\n",
    "def known(words):\n",
    "    return {w for w in words if w in COUNTS}\n",
    "\n",
    "def edits0(word):\n",
    "    return {word}\n",
    "\n",
    "def splits(word):\n",
    "    return [(word[:i], word[i:]) for i in range(len(word)+1)][1:-1]\n",
    "\n",
    "def edits1(word):\n",
    "    pairs      = splits(word)\n",
    "    deletes    = [a+b[1:]           for (a, b) in pairs]\n",
    "    transposes = [a+b[1]+b[0]+b[2:] for (a, b) in pairs if len(b) > 1]\n",
    "    replaces   = [a+c+b[1:]         for (a, b) in pairs for c in alphabet]\n",
    "    inserts    = [a+c+b             for (a, b) in pairs for c in alphabet]\n",
    "    return set(deletes + transposes + replaces + inserts)\n",
    "\n",
    "def edits2(word):\n",
    "    return {e2 for e1 in edits1(word) for e2 in edits1(e1)}\n",
    "\n",
    "def correct(word):\n",
    "    candidates = (known(edits0(word)) or known(edits1(word)) or known(edits2(word)))\n",
    "    return max(candidates, key=COUNTS.get)\n"
   ]
  },
  {
   "cell_type": "code",
   "execution_count": 11,
   "id": "be0e97e3-b542-442c-82cd-6ec226f1925b",
   "metadata": {},
   "outputs": [
    {
     "data": {
      "text/plain": [
       "['spelling',\n",
       " 'errors',\n",
       " 'in',\n",
       " 'something',\n",
       " 'whatever',\n",
       " 'unusual',\n",
       " 'mistakes',\n",
       " 'everywhere']"
      ]
     },
     "execution_count": 11,
     "metadata": {},
     "output_type": "execute_result"
    }
   ],
   "source": [
    "list(map(correct, tokens(\"Speling errurs in somethink. Whutever; unusuel misteakes everyware?\")))"
   ]
  },
  {
   "cell_type": "code",
   "execution_count": 19,
   "id": "f5fdc56e-ce4d-4aae-b7cc-072ce1f93444",
   "metadata": {},
   "outputs": [],
   "source": [
    "def case_of(text):\n",
    "    return (\n",
    "        str.title if text.istitle() else\n",
    "        str.upper if text.isupper() else\n",
    "        str.lower if text.lower() else\n",
    "        str\n",
    "    )\n",
    "\n",
    "def correct_match(match):\n",
    "    word = match.group()\n",
    "    return case_of(word)(correct(word.lower()))\n",
    "\n",
    "def correct_text(text):\n",
    "    return re.sub('[a-zA-Z]+', correct_match, text)"
   ]
  },
  {
   "cell_type": "code",
   "execution_count": 20,
   "id": "7cca7e8e-d455-4d4b-bb78-08ae3334cd9d",
   "metadata": {},
   "outputs": [
    {
     "data": {
      "text/plain": [
       "'Spelling Errors IN something. Whatever; unusual mistakes?'"
      ]
     },
     "execution_count": 20,
     "metadata": {},
     "output_type": "execute_result"
    }
   ],
   "source": [
    "correct_text(\"Speling Errurs IN somethink. Whutever; unusuel misteakes?\")"
   ]
  },
  {
   "cell_type": "code",
   "execution_count": 21,
   "id": "099ba886-30f8-4e2e-b62b-db7a13329144",
   "metadata": {},
   "outputs": [
    {
     "name": "stdout",
     "output_type": "stream",
     "text": [
      "<function <lambda> at 0x000002C368CBD9E0>\n"
     ]
    }
   ],
   "source": [
    "d = {\"1\": 1, \"2\": 2, \"3\": 3}\n",
    "N = sum(list(d.values()))\n",
    "print(lambda x: d[x]/N)"
   ]
  },
  {
   "cell_type": "code",
   "execution_count": 23,
   "id": "ae26a5b6-dba6-412a-be8c-bb4e4f45405b",
   "metadata": {},
   "outputs": [],
   "source": [
    "def pdist(counter):\n",
    "    N = sum(list(counter.values()))\n",
    "    return lambda x: counter[x]/N\n",
    "\n",
    "P = pdist(COUNTS)"
   ]
  },
  {
   "cell_type": "code",
   "execution_count": 24,
   "id": "6e952b92-d443-47f2-8cdb-d5ebd976e8fc",
   "metadata": {},
   "outputs": [
    {
     "name": "stdout",
     "output_type": "stream",
     "text": [
      "0.07240666434449033 the\n",
      "0.008842968103249388 is\n",
      "0.07240666434449033 the\n",
      "0.0008215075749693518 most\n",
      "0.0002596615352601365 common\n",
      "0.0002696137195383996 word\n",
      "0.019949605757790978 in\n",
      "0.00019090098933759167 english\n"
     ]
    }
   ],
   "source": [
    "for w in tokens('\"The\" is the most common word in English'):\n",
    "    print(P(w), w)"
   ]
  },
  {
   "cell_type": "code",
   "execution_count": null,
   "id": "876ea827-5a7d-4078-9ac9-9735abd06d73",
   "metadata": {},
   "outputs": [],
   "source": []
  }
 ],
 "metadata": {
  "kernelspec": {
   "display_name": "Python 3 (ipykernel)",
   "language": "python",
   "name": "python3"
  },
  "language_info": {
   "codemirror_mode": {
    "name": "ipython",
    "version": 3
   },
   "file_extension": ".py",
   "mimetype": "text/x-python",
   "name": "python",
   "nbconvert_exporter": "python",
   "pygments_lexer": "ipython3",
   "version": "3.12.4"
  }
 },
 "nbformat": 4,
 "nbformat_minor": 5
}
