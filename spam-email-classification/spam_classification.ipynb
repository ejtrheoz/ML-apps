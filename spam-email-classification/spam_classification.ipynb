{
 "cells": [
  {
   "cell_type": "markdown",
   "id": "ce4659b0-3e70-43a2-87c5-099ab4e5b0f5",
   "metadata": {},
   "source": [
    "Import all libraries"
   ]
  },
  {
   "cell_type": "code",
   "execution_count": 18,
   "id": "7024dcbb-d029-4954-bdb3-5ea47e4958d3",
   "metadata": {},
   "outputs": [
    {
     "name": "stderr",
     "output_type": "stream",
     "text": [
      "[nltk_data] Downloading package punkt to\n",
      "[nltk_data]     C:\\Users\\Илья\\AppData\\Roaming\\nltk_data...\n",
      "[nltk_data]   Unzipping tokenizers\\punkt.zip.\n"
     ]
    },
    {
     "data": {
      "text/plain": [
       "True"
      ]
     },
     "execution_count": 18,
     "metadata": {},
     "output_type": "execute_result"
    }
   ],
   "source": [
    "import os\n",
    "import collections\n",
    "import nltk\n",
    "from nltk.classify import NaiveBayesClassifier, accuracy\n",
    "import random\n",
    "from sklearn.utils import shuffle\n",
    "nltk.download('punkt')"
   ]
  },
  {
   "cell_type": "code",
   "execution_count": 3,
   "id": "1ada2399-7581-487e-af2f-d6143319a928",
   "metadata": {},
   "outputs": [],
   "source": [
    "stop_words = {\n",
    "    'ourselves', 'hers', 'between', 'yourself', 'but', 'again', \n",
    "    'there', 'about', 'once', 'during', 'out', 'very', 'having', 'with', 'they',\n",
    "    'own', 'an', 'be', 'some', 'for', 'do', 'its', 'yours', 'such', 'into', \n",
    "    'of', 'most', 'itself', 'other', 'off', 'is', 's', 'am', 'or', 'who', 'as',\n",
    "    'from', 'him', 'each', 'the', 'themselves', 'until', 'below', 'are', 'we',\n",
    "    'these', 'your', 'his', 'through', 'don', 'nor', 'me', 'were', 'her', 'more',\n",
    "    'himself', 'this', 'down', 'should', 'our', 'their', 'while', 'above',\n",
    "    'both', 'up', 'to', 'ours', 'had', 'she', 'all', 'no', 'when', 'at', 'any',\n",
    "    'before', 'them', 'same', 'and', 'been', 'have', 'in', 'will', 'on', 'does',\n",
    "    'yourselves', 'then', 'that', 'because', 'what', 'over', 'why', 'so', 'can',\n",
    "    'did', 'not', 'now', 'under', 'he', 'you', 'herself', 'has', 'just', 'where',\n",
    "    'too', 'only', 'myself', 'which', 'those', 'i', 'after', 'few', 'whom', 't',\n",
    "    'being', 'if', 'theirs', 'my', 'against', 'a', 'by', 'doing', 'it', 'how',\n",
    "    'further', 'was', 'here', 'than'}"
   ]
  },
  {
   "cell_type": "code",
   "execution_count": 9,
   "id": "4858f1b0-a943-40af-80ca-67e1f300ae30",
   "metadata": {},
   "outputs": [],
   "source": [
    "def load_files(dir):\n",
    "    full_data = []\n",
    "    for file_name in os.listdir(dir):\n",
    "        f = open(dir + '/' + file_name, 'r', encoding=\"ISO-8859-1\")\n",
    "        full_data.append(f.read())\n",
    "        f.close()\n",
    "\n",
    "    return full_data\n"
   ]
  },
  {
   "cell_type": "code",
   "execution_count": 27,
   "id": "61821d87-0f9b-435d-8b75-e286738eeb2b",
   "metadata": {},
   "outputs": [],
   "source": [
    "positive_samples = load_files('spam')\n",
    "negative_samples = load_files('ham')"
   ]
  },
  {
   "cell_type": "code",
   "execution_count": 11,
   "id": "1695beed-eee2-423a-9391-1997a90bcbe3",
   "metadata": {},
   "outputs": [
    {
     "data": {
      "text/plain": [
       "['Subject: dobmeos with hgh my energy level has gone up ! stukm\\nintroducing\\ndoctor - formulated\\nhgh\\nhuman growth hormone - also called hgh\\nis referred to in medical science as the master hormone . it is very plentiful\\nwhen we are young , but near the age of twenty - one our bodies begin to produce\\nless of it . by the time we are forty nearly everyone is deficient in hgh ,\\nand at eighty our production has normally diminished at least 90 - 95 % .\\nadvantages of hgh :\\n- increased muscle strength\\n- loss in body fat\\n- increased bone density\\n- lower blood pressure\\n- quickens wound healing\\n- reduces cellulite\\n- improved vision\\n- wrinkle disappearance\\n- increased skin thickness texture\\n- increased energy levels\\n- improved sleep and emotional stability\\n- improved memory and mental alertness\\n- increased sexual potency\\n- resistance to common illness\\n- strengthened heart muscle\\n- controlled cholesterol\\n- controlled mood swings\\n- new hair growth and color restore\\nread\\nmore at this website\\nunsubscribe\\n']"
      ]
     },
     "execution_count": 11,
     "metadata": {},
     "output_type": "execute_result"
    }
   ],
   "source": [
    "positive_samples[:1]"
   ]
  },
  {
   "cell_type": "code",
   "execution_count": 14,
   "id": "90cb64ed-d825-4505-848a-705dc25327aa",
   "metadata": {},
   "outputs": [
    {
     "data": {
      "text/plain": [
       "['Subject: christmas tree farm pictures\\n']"
      ]
     },
     "execution_count": 14,
     "metadata": {},
     "output_type": "execute_result"
    }
   ],
   "source": [
    "negative_samples[:1]"
   ]
  },
  {
   "cell_type": "code",
   "execution_count": 15,
   "id": "c1429aba-9b86-42bf-8455-234d6a0e652f",
   "metadata": {},
   "outputs": [],
   "source": [
    "def preprocess_sentence(sentence):\n",
    "    lemmatizer = nltk.WordNetLemmatizer()\n",
    "    tokens = nltk.word_tokenize(sentence)\n",
    "    tokens = [w.lower() for w in tokens]\n",
    "    \n",
    "    word_counts = collections.Counter(tokens)\n",
    "    uncommon_words = word_counts.most_common()[:-10:-1]\n",
    "\n",
    "    tokens = [w for w in tokens if w not in stop_words]\n",
    "    tokens = [w for w in tokens if w not in uncommon_words]\n",
    "\n",
    "    tokens = [lemmatizer.lemmatize(w) for w in tokens]\n",
    "    return tokens\n"
   ]
  },
  {
   "cell_type": "code",
   "execution_count": 16,
   "id": "1515c242-98c6-4f0f-9287-04ecbb690b91",
   "metadata": {},
   "outputs": [
    {
     "name": "stdout",
     "output_type": "stream",
     "text": [
      "Subject: dobmeos with hgh my energy level has gone up ! stukm\n",
      "introducing\n",
      "doctor - formulated\n",
      "hgh\n",
      "human growth hormone - also called hgh\n",
      "is referred to in medical science as the master hormone . it is very plentiful\n",
      "when we are young , but near the age of twenty - one our bodies begin to produce\n",
      "less of it . by the time we are forty nearly everyone is deficient in hgh ,\n",
      "and at eighty our production has normally diminished at least 90 - 95 % .\n",
      "advantages of hgh :\n",
      "- increased muscle strength\n",
      "- loss in body fat\n",
      "- increased bone density\n",
      "- lower blood pressure\n",
      "- quickens wound healing\n",
      "- reduces cellulite\n",
      "- improved vision\n",
      "- wrinkle disappearance\n",
      "- increased skin thickness texture\n",
      "- increased energy levels\n",
      "- improved sleep and emotional stability\n",
      "- improved memory and mental alertness\n",
      "- increased sexual potency\n",
      "- resistance to common illness\n",
      "- strengthened heart muscle\n",
      "- controlled cholesterol\n",
      "- controlled mood swings\n",
      "- new hair growth and color restore\n",
      "read\n",
      "more at this website\n",
      "unsubscribe\n",
      "\n"
     ]
    }
   ],
   "source": [
    "for email in positive_samples[:1]:\n",
    "    print(email)\n"
   ]
  },
  {
   "cell_type": "code",
   "execution_count": 20,
   "id": "df183893-d4ef-417a-a514-7d14a312048f",
   "metadata": {},
   "outputs": [
    {
     "name": "stderr",
     "output_type": "stream",
     "text": [
      "[nltk_data] Downloading package wordnet to\n",
      "[nltk_data]     C:\\Users\\Илья\\AppData\\Roaming\\nltk_data...\n"
     ]
    },
    {
     "data": {
      "text/plain": [
       "True"
      ]
     },
     "execution_count": 20,
     "metadata": {},
     "output_type": "execute_result"
    }
   ],
   "source": [
    "nltk.download('wordnet')"
   ]
  },
  {
   "cell_type": "code",
   "execution_count": 28,
   "id": "6757d7e1-355d-4bc2-b11a-87d2366e369d",
   "metadata": {},
   "outputs": [],
   "source": [
    "positive_samples = [preprocess_sentence(email) for email in positive_samples]\n",
    "negative_samples = [preprocess_sentence(email) for email in negative_samples]"
   ]
  },
  {
   "cell_type": "code",
   "execution_count": 32,
   "id": "1e852196-33a9-4455-8b86-c0f4737c2b17",
   "metadata": {},
   "outputs": [],
   "source": [
    "positive_samples = [(email, 1) for email in positive_samples]\n",
    "negative_samples = [(email, 0) for email in negative_samples]\n",
    "all_samples = positive_samples + negative_samples\n",
    "random.shuffle(all_samples)"
   ]
  },
  {
   "cell_type": "code",
   "execution_count": 29,
   "id": "4583bd7e-552b-4f10-85ab-3da1b9676814",
   "metadata": {},
   "outputs": [],
   "source": [
    "def feature_extraction(tokens):\n",
    "    return dict(collections.Counter(tokens))"
   ]
  },
  {
   "cell_type": "code",
   "execution_count": 33,
   "id": "a8705863-4e91-49de-aa02-3a3620ebefc0",
   "metadata": {},
   "outputs": [
    {
     "data": {
      "text/plain": [
       "[({'subject': 3,\n",
       "   ':': 12,\n",
       "   're': 3,\n",
       "   'pg': 3,\n",
       "   '&': 5,\n",
       "   'e': 3,\n",
       "   'texoma': 3,\n",
       "   'volume': 4,\n",
       "   'particular': 1,\n",
       "   'meter': 1,\n",
       "   'look': 1,\n",
       "   'okay': 2,\n",
       "   'today': 1,\n",
       "   ',': 5,\n",
       "   'impacting': 1,\n",
       "   'ua': 2,\n",
       "   '4': 2,\n",
       "   '.': 8,\n",
       "   'keep': 1,\n",
       "   'posted': 1,\n",
       "   'find': 1,\n",
       "   'problem': 2,\n",
       "   'bryan': 3,\n",
       "   'hull': 2,\n",
       "   '03': 2,\n",
       "   '/': 8,\n",
       "   '21': 2,\n",
       "   '2000': 2,\n",
       "   '05': 1,\n",
       "   '18': 1,\n",
       "   'pm': 1,\n",
       "   'lauri': 2,\n",
       "   'allen': 2,\n",
       "   'hou': 2,\n",
       "   'ect': 4,\n",
       "   '@': 2,\n",
       "   'cc': 2,\n",
       "   'looked': 1,\n",
       "   'p': 2,\n",
       "   'l': 2,\n",
       "   'tonite': 1,\n",
       "   'actually': 1,\n",
       "   'increased': 1,\n",
       "   '90': 1,\n",
       "   '000': 2,\n",
       "   'mmbtu': 2,\n",
       "   \"'\": 3,\n",
       "   'grand': 1,\n",
       "   'total': 1,\n",
       "   '550': 1,\n",
       "   'month': 1,\n",
       "   'know': 2,\n",
       "   'fixed': 1,\n",
       "   'information': 1,\n",
       "   'please': 1,\n",
       "   'let': 1,\n",
       "   'thanks': 1,\n",
       "   '09': 1,\n",
       "   '51': 1,\n",
       "   'scheduling': 1,\n",
       "   'say': 1,\n",
       "   'corrected': 1,\n",
       "   'telling': 1,\n",
       "   'may': 1,\n",
       "   'happen': 1,\n",
       "   'overnight': 1,\n",
       "   'run': 1,\n",
       "   'evening': 1},\n",
       "  0)]"
      ]
     },
     "execution_count": 33,
     "metadata": {},
     "output_type": "execute_result"
    }
   ],
   "source": [
    "features = [(feature_extraction(corpus), label) for corpus, label in all_samples]\n",
    "features[:1]"
   ]
  },
  {
   "cell_type": "code",
   "execution_count": 36,
   "id": "ab18411b-2dd0-4676-a73d-e69c4e1e6b7b",
   "metadata": {},
   "outputs": [],
   "source": [
    "def train_test_split(dataset, train_size=0.8):\n",
    "    train_size_num = int(len(dataset)*train_size)\n",
    "    return dataset[:train_size_num], dataset[train_size_num:]"
   ]
  },
  {
   "cell_type": "code",
   "execution_count": 39,
   "id": "161011f0-6845-4b4d-8c9f-8406d9f6de6c",
   "metadata": {},
   "outputs": [],
   "source": [
    "training_set, test_set = train_test_split(features, train_size=0.7)"
   ]
  },
  {
   "cell_type": "code",
   "execution_count": 41,
   "id": "5b156473-9cbd-4105-875d-eacd8a64a0e0",
   "metadata": {},
   "outputs": [
    {
     "name": "stdout",
     "output_type": "stream",
     "text": [
      "Model training complete. Accuracy on training set: 0.9432989690721649\n",
      "Accuracy on test set: 0.9432989690721649\n"
     ]
    }
   ],
   "source": [
    "model = nltk.classify.NaiveBayesClassifier.train(training_set)\n",
    "training_error = nltk.classify.accuracy(model, test_set)\n",
    "print(f'Model training complete. Accuracy on training set: {training_error}')\n",
    "\n",
    "testing_error = nltk.classify.accuracy(model, test_set)\n",
    "print(f'Accuracy on test set: {testing_error}')"
   ]
  },
  {
   "cell_type": "code",
   "execution_count": 1,
   "id": "948f51d7-9db3-4bc3-bffa-a99dd0125335",
   "metadata": {},
   "outputs": [],
   "source": [
    "%config Completer.use_jedi = False\n",
    "\n"
   ]
  },
  {
   "cell_type": "code",
   "execution_count": null,
   "id": "acf2554b-3fc6-49ee-807b-20eaf6d41517",
   "metadata": {},
   "outputs": [],
   "source": [
    "pd.read"
   ]
  }
 ],
 "metadata": {
  "kernelspec": {
   "display_name": "Python 3 (ipykernel)",
   "language": "python",
   "name": "python3"
  },
  "language_info": {
   "codemirror_mode": {
    "name": "ipython",
    "version": 3
   },
   "file_extension": ".py",
   "mimetype": "text/x-python",
   "name": "python",
   "nbconvert_exporter": "python",
   "pygments_lexer": "ipython3",
   "version": "3.12.4"
  }
 },
 "nbformat": 4,
 "nbformat_minor": 5
}
